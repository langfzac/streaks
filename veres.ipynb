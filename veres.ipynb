{
 "cells": [
  {
   "cell_type": "markdown",
   "metadata": {},
   "source": [
    "Trailed source model from Vereš et al. 2012 method"
   ]
  },
  {
   "cell_type": "code",
   "execution_count": 27,
   "metadata": {},
   "outputs": [],
   "source": [
    "import numpy as np\n",
    "from time import time \n",
    "from scipy.special import erf\n",
    "\n",
    "from scipy.optimize import minimize\n",
    "\n",
    "import matplotlib.pyplot as plt\n",
    "%matplotlib inline"
   ]
  },
  {
   "cell_type": "code",
   "execution_count": 28,
   "metadata": {},
   "outputs": [],
   "source": [
    "def plotCutout(img, title = None, clabel='$counts$', xlabel='x (pixels)', ylabel='y (pixels)', loc=None, fig=None, clim=(-60, 300)):\n",
    "    \"\"\"Make a nice looking plot of a small image\"\"\"\n",
    "    if loc is None:\n",
    "        fig, ax = plt.subplots(figsize=(8,8))\n",
    "        fig.subplots_adjust(right=0.8, bottom=0.34)\n",
    "    else:\n",
    "        ax = fig.add_subplot(loc)\n",
    "\n",
    "    # coordinate of the edge (assuming a square image)\n",
    "    xe = img.shape[0] // 2.\n",
    "\n",
    "    if title is None:\n",
    "        title = \"min = %.1f, max=%.1f\" % (img.min(), img.max())\n",
    "    \n",
    "    ax.set_title(title, fontsize=14)\n",
    "    plt.imshow(img, origin='lower', interpolation='nearest',\n",
    "           extent=(-xe, xe, -xe, xe),\n",
    "           cmap=plt.cm.binary, aspect='auto')\n",
    "    plt.clim(*clim)\n",
    "    plt.colorbar().set_label(clabel)\n",
    "\n",
    "    ax.set_xlabel(xlabel, fontsize=12)\n",
    "    ax.set_ylabel(ylabel, fontsize=12)"
   ]
  },
  {
   "cell_type": "code",
   "execution_count": 29,
   "metadata": {},
   "outputs": [],
   "source": [
    "def trailedModel(x,y,F,L,theta,x0,y0,sigma,b):\n",
    "    xp = (x-x0)*np.cos(theta) - (y-y0)*np.sin(theta)\n",
    "    yp = (x-x0)*np.sin(theta) + (y-y0)*np.cos(theta)\n",
    "    A = F/(L*2)\n",
    "    B = np.exp(-0.5 * yp**2 / sigma**2)\n",
    "    C = erf((xp + L/2) / (np.sqrt(2) * sigma))\n",
    "    D = erf((xp - L/2) / (np.sqrt(2) * sigma))\n",
    "    return b + A * B * (C - D)\n",
    "\n",
    "def makeModelImage(params, xdim, ydim, args, noise=False):\n",
    "    F, L, theta, x0, y0 = params\n",
    "    b, sigma = args\n",
    "    \n",
    "    x = np.arange(-xdim//2 + 1, xdim//2 + 1)\n",
    "    y = np.arange(-ydim//2 + 1, ydim//2 + 1)\n",
    "    im = trailedModel(x[None,:],y[:,None],F,L,theta,x0,y0,sigma,b)\n",
    "    \n",
    "    if noise: im = np.random.poisson(im)\n",
    "    \n",
    "    return im"
   ]
  },
  {
   "cell_type": "code",
   "execution_count": 30,
   "metadata": {},
   "outputs": [
    {
     "data": {
      "text/plain": [
       "217.0606309090489"
      ]
     },
     "execution_count": 30,
     "metadata": {},
     "output_type": "execute_result"
    }
   ],
   "source": [
    "trailedModel(0,0,1200,5,0,0,0,1.5,0)"
   ]
  },
  {
   "cell_type": "code",
   "execution_count": 31,
   "metadata": {},
   "outputs": [],
   "source": [
    "def gradient(x,y,F,L,theta,x0,y0,sigma):\n",
    "    # Common terms\n",
    "    xp = ((x-x0)*np.cos(theta) - (y-y0)*np.sin(theta))\n",
    "    yp = ((x-x0)*np.sin(theta) + (y-y0)*np.cos(theta))\n",
    "    A = (0.5*F/L)*np.exp(-0.5*(yp/sigma)**2)\n",
    "    B = np.exp(-((L + 2*(x-x0)*np.cos(theta) - 2*(y-y0)*np.sin(theta))/sigma)**2 / 8.0)\n",
    "    C = np.exp(-((L - 2*(x-x0)*np.cos(theta) + 2*(y-y0)*np.sin(theta))/sigma)**2 / 8.0)\n",
    "    D = erf((xp - 0.5*L)/(sigma*np.sqrt(2)))\n",
    "    E = erf((xp + 0.5*L)/(sigma*np.sqrt(2)))\n",
    "    a = np.sqrt(2/np.pi)*sigma\n",
    "    \n",
    "    dfdF = trailedModel(x,y,1.0,L,theta,x0,y0,sigma,0.0) # f / F\n",
    "    dfdL = (A/L)*(L/(np.sqrt(2*np.pi) * sigma)*(B + C) + (D - E))\n",
    "    dfdtheta = (A/sigma**2)*yp*(a*(C - B) + xp*(D - E))\n",
    "    dfdx0 = (A/sigma**2)*(a*np.cos(theta)*(C - B) + np.sin(theta)*yp*(E - D))\n",
    "    dfdy0 = (A/sigma**2)*(a*np.sin(theta)*(B - C) + np.cos(theta)*yp*(E - D))\n",
    "    \n",
    "    return np.array([dfdF, dfdL, dfdtheta, dfdx0, dfdy0])\n",
    "\n",
    "def makeGradientImages(params, xdim, ydim, args):\n",
    "    F, L, theta, x0, y0 = params\n",
    "    b, sigma = args\n",
    "    \n",
    "    x = np.arange(-xdim//2 + 1, xdim//2 + 1)\n",
    "    y = np.arange(-ydim//2 + 1, ydim//2 + 1)\n",
    "    \n",
    "    ims = gradient(x[None,:],y[:,None],F,L,theta,x0,y0,sigma)\n",
    "    return ims"
   ]
  },
  {
   "cell_type": "code",
   "execution_count": 32,
   "metadata": {},
   "outputs": [
    {
     "name": "stdout",
     "output_type": "stream",
     "text": [
      "0.13316707736521494\n",
      "-14.78001365740056\n",
      "-43.3812743949602\n",
      "-27.641306132863974\n",
      "-71.02258194890965\n"
     ]
    }
   ],
   "source": [
    "F = 1200\n",
    "L = 5\n",
    "theta = 0.0\n",
    "x0 = 1.0; y0 = 1.0\n",
    "h = 1e-8\n",
    "params = np.array([F,L,theta,x0,y0])\n",
    "\n",
    "grad = np.zeros(5)\n",
    "for i in range(5):\n",
    "    params[i] += h\n",
    "    F, L, theta, x0, y0 = params\n",
    "    p = trailedModel(0,0,F,L,theta,x0,y0,1.5,0.0)    \n",
    "    params[i] -= 2*h\n",
    "    F, L, theta, x0, y0 = params\n",
    "    m = trailedModel(0,0,F,L,theta,x0,y0,1.5,0.0)\n",
    "    grad[i] = (p - m)/(2*h)\n",
    "    params[i] += h\n",
    "    print(grad[i])"
   ]
  },
  {
   "cell_type": "code",
   "execution_count": 33,
   "metadata": {},
   "outputs": [
    {
     "name": "stdout",
     "output_type": "stream",
     "text": [
      "0.13316734182580484\n",
      "-14.780013409370799\n",
      "-43.38127580469084\n",
      "-27.641306068592282\n",
      "-71.02258159687005\n"
     ]
    }
   ],
   "source": [
    "[print(g) for g in gradient(0,0,F,L,theta,x0,y0,1.5)];"
   ]
  },
  {
   "cell_type": "code",
   "execution_count": 34,
   "metadata": {},
   "outputs": [
    {
     "data": {
      "text/plain": [
       "array([-2.64460590e-07, -2.48029760e-07,  1.40973064e-06, -6.42716920e-08,\n",
       "       -3.52039592e-07])"
      ]
     },
     "execution_count": 34,
     "metadata": {},
     "output_type": "execute_result"
    }
   ],
   "source": [
    "grad - gradient(0,0,F,L,theta,x0,y0,1.5)"
   ]
  },
  {
   "cell_type": "code",
   "execution_count": 35,
   "metadata": {},
   "outputs": [
    {
     "name": "stdout",
     "output_type": "stream",
     "text": [
      "SNR:  9.358333461169334\n"
     ]
    },
    {
     "data": {
      "image/png": "[encoded data removed]",
      "text/plain": [
       "<Figure size 576x576 with 2 Axes>"
      ]
     },
     "metadata": {
      "needs_background": "light"
     },
     "output_type": "display_data"
    }
   ],
   "source": [
    "dims = 25\n",
    "F = 1500.2\n",
    "sigma = 1.5\n",
    "L = 10\n",
    "theta = -np.pi/4 # rotate trail to image frame\n",
    "x0 = 0.0\n",
    "y0 = 0.0\n",
    "b = 912.5\n",
    "print(\"SNR: \", F * 0.66 / np.sqrt(b) / (2.335 * sigma))\n",
    "\n",
    "params = np.array([F,L,theta,x0,y0])\n",
    "args = np.array([b, sigma])\n",
    "im = makeModelImage(params, dims, dims, args, noise=False)\n",
    "plotCutout(im,clim=(800,1100))"
   ]
  },
  {
   "cell_type": "code",
   "execution_count": 36,
   "metadata": {},
   "outputs": [
    {
     "name": "stdout",
     "output_type": "stream",
     "text": [
      "Error:  31.77352386155549\n"
     ]
    },
    {
     "data": {
      "image/png": "[encoded data removed]",
      "text/plain": [
       "<Figure size 576x576 with 2 Axes>"
      ]
     },
     "metadata": {
      "needs_background": "light"
     },
     "output_type": "display_data"
    }
   ],
   "source": [
    "# Calculate noise sigma from diff images\n",
    "diff_im = makeModelImage(params, dims, dims, args, noise=True) - makeModelImage(params, dims, dims, args, noise=False)\n",
    "print(\"Error: \", np.std(diff_im))\n",
    "plotCutout(diff_im)"
   ]
  },
  {
   "cell_type": "code",
   "execution_count": 37,
   "metadata": {},
   "outputs": [],
   "source": [
    "def chi_squared(params, data, error, args):\n",
    "    dims = data.shape\n",
    "    model = makeModelImage(params, *dims, args)\n",
    "    error = np.sqrt(model)\n",
    "    return np.sum(((data - model) / error)**2)\n",
    "\n",
    "def grad_chi_squared(params, data, error, args):\n",
    "    N = len(params)\n",
    "    dims = data.shape\n",
    "    model = makeModelImage(params, *dims, args)\n",
    "    dmodel = makeGradientImages(params, *dims, args)\n",
    "    error = np.sqrt(model)\n",
    "    res = (data - model) / error\n",
    "    \n",
    "    dchi2 = np.zeros(N)\n",
    "    for i in range(N):\n",
    "        dchi2[i] = -2.0 * np.dot((dmodel[i] / error).flatten(), res.flatten())\n",
    "    \n",
    "    return dchi2"
   ]
  },
  {
   "cell_type": "code",
   "execution_count": 38,
   "metadata": {},
   "outputs": [
    {
     "data": {
      "text/plain": [
       "0.9214474013026729"
      ]
     },
     "execution_count": 38,
     "metadata": {},
     "output_type": "execute_result"
    }
   ],
   "source": [
    "dims = 25\n",
    "x0 = 1.0\n",
    "y0 = 2.0\n",
    "F = 3500.2\n",
    "sigma = 1.5\n",
    "L = 8\n",
    "b = 912.5\n",
    "theta = np.pi/3\n",
    "\n",
    "params = np.array([F,L,theta,x0,y0])\n",
    "args = np.array([b, sigma])\n",
    "\n",
    "data = makeModelImage(params, dims, dims, args, noise=True)\n",
    "error = np.sqrt(data)\n",
    "chi_squared(params, data, error, args) / (data.size - 5 - 1)"
   ]
  },
  {
   "cell_type": "code",
   "execution_count": 39,
   "metadata": {},
   "outputs": [],
   "source": [
    "dims = 25\n",
    "F = 3500.2\n",
    "L = 8\n",
    "theta = np.pi/3\n",
    "x0 = 1.0\n",
    "y0 = 2.0\n",
    "b = 912.5\n",
    "sigma = 1.8\n",
    "\n",
    "params = np.array([F, L, theta, x0, y0])\n",
    "args = np.array([b, sigma])"
   ]
  },
  {
   "cell_type": "code",
   "execution_count": 40,
   "metadata": {},
   "outputs": [
    {
     "name": "stdout",
     "output_type": "stream",
     "text": [
      "CPU times: user 72.1 ms, sys: 5.01 ms, total: 77.1 ms\n",
      "Wall time: 74.8 ms\n"
     ]
    }
   ],
   "source": [
    "%%time\n",
    "res = minimize(chi_squared, params, args=(data, error, args), method='L-BFGS-B', jac=grad_chi_squared, options={'maxiter':5000})"
   ]
  },
  {
   "cell_type": "code",
   "execution_count": 41,
   "metadata": {},
   "outputs": [
    {
     "data": {
      "text/plain": [
       "array([-0.09582429, -0.04261294, -0.00916101, -0.06427001, -0.03351957])"
      ]
     },
     "execution_count": 41,
     "metadata": {},
     "output_type": "execute_result"
    }
   ],
   "source": [
    "(res.x - params) / params"
   ]
  },
  {
   "cell_type": "code",
   "execution_count": 42,
   "metadata": {},
   "outputs": [
    {
     "name": "stdout",
     "output_type": "stream",
     "text": [
      "0.9772650634069654\n"
     ]
    },
    {
     "data": {
      "text/plain": [
       "<matplotlib.image.AxesImage at 0x7fbbe4559190>"
      ]
     },
     "execution_count": 42,
     "metadata": {},
     "output_type": "execute_result"
    },
    {
     "data": {
      "image/png": "[encoded data removed]",
      "text/plain": [
       "<Figure size 576x576 with 2 Axes>"
      ]
     },
     "metadata": {
      "needs_background": "light"
     },
     "output_type": "display_data"
    }
   ],
   "source": [
    "fit_image = makeModelImage(res.x, dims, dims, args, noise=False)\n",
    "print(res.fun / (fit_image.size - 5 - 1))\n",
    "plotCutout(fit_image,clim=(900,1200))\n",
    "plt.imshow(fit_image,origin='lower')"
   ]
  },
  {
   "cell_type": "code",
   "execution_count": 43,
   "metadata": {},
   "outputs": [
    {
     "data": {
      "image/png": "[encoded data removed]",
      "text/plain": [
       "<Figure size 576x576 with 2 Axes>"
      ]
     },
     "metadata": {
      "needs_background": "light"
     },
     "output_type": "display_data"
    }
   ],
   "source": [
    "plotCutout(data - fit_image)"
   ]
  },
  {
   "cell_type": "code",
   "execution_count": 44,
   "metadata": {},
   "outputs": [
    {
     "data": {
      "image/png": "[encoded data removed]",
      "text/plain": [
       "<Figure size 432x288 with 1 Axes>"
      ]
     },
     "metadata": {
      "needs_background": "light"
     },
     "output_type": "display_data"
    }
   ],
   "source": [
    "plt.hist((data - fit_image).flatten());"
   ]
  },
  {
   "cell_type": "code",
   "execution_count": 45,
   "metadata": {},
   "outputs": [],
   "source": [
    "def test_methods(methods, N=25):\n",
    "    times = np.zeros(len(methods))\n",
    "    ttmp = np.zeros(N)\n",
    "    chi2tmp = np.zeros(N)\n",
    "    values = np.zeros(len(methods))\n",
    "    for i in range(len(methods)):\n",
    "        for j in range(N):\n",
    "            ti = time()\n",
    "            res = minimize(chi_squared, params, args=(data, error, args), method=methods[i], jac=grad_chi_squared, options={'maxiter':5000})\n",
    "            tf = time()\n",
    "            chi2tmp[j] = res.fun\n",
    "            ttmp[j] = tf - ti\n",
    "        \n",
    "        jtmp = np.where(np.min(ttmp))\n",
    "        times[i] = ttmp[jtmp][0]\n",
    "        values[i] = chi2tmp[jtmp][0] / (data.size - 5 - 1)\n",
    "    \n",
    "    return np.array([methods, times, values])"
   ]
  },
  {
   "cell_type": "code",
   "execution_count": 46,
   "metadata": {},
   "outputs": [
    {
     "name": "stderr",
     "output_type": "stream",
     "text": [
      "/opt/lsst/software/stack/conda/miniconda3-py37_4.8.2/envs/lsst-scipipe-cb4e2dc/lib/python3.7/site-packages/scipy/optimize/_minimize.py:518: RuntimeWarning: Method Nelder-Mead does not use gradient information (jac).\n",
      "  RuntimeWarning)\n",
      "/opt/lsst/software/stack/conda/miniconda3-py37_4.8.2/envs/lsst-scipipe-cb4e2dc/lib/python3.7/site-packages/scipy/optimize/_minimize.py:518: RuntimeWarning: Method Powell does not use gradient information (jac).\n",
      "  RuntimeWarning)\n",
      "/opt/lsst/software/stack/conda/miniconda3-py37_4.8.2/envs/lsst-scipipe-cb4e2dc/lib/python3.7/site-packages/scipy/optimize/_minimize.py:518: RuntimeWarning: Method COBYLA does not use gradient information (jac).\n",
      "  RuntimeWarning)\n"
     ]
    }
   ],
   "source": [
    "methods = ['Nelder-Mead','Powell','CG','BFGS',\n",
    "           'Newton-CG','L-BFGS-B','TNC','COBYLA',\n",
    "           'SLSQP','trust-constr']\n",
    "m, t, v = test_methods(methods)"
   ]
  },
  {
   "cell_type": "code",
   "execution_count": 47,
   "metadata": {},
   "outputs": [
    {
     "name": "stdout",
     "output_type": "stream",
     "text": [
      "0.1296827793121338 \t:  0.9772309716761646 \t:  Nelder-Mead\n",
      "0.017421722412109375 \t:  0.9772317671303785 \t:  Powell\n",
      "0.03892874717712402 \t:  1.013415132494766 \t:  CG\n",
      "0.014825105667114258 \t:  0.9772779752444776 \t:  BFGS\n",
      "0.10379672050476074 \t:  0.9772362898794769 \t:  Newton-CG\n",
      "0.029120922088623047 \t:  0.9772650634069654 \t:  L-BFGS-B\n",
      "0.020812034606933594 \t:  0.9772772638169092 \t:  TNC\n",
      "0.04727792739868164 \t:  1.0133806434345753 \t:  COBYLA\n",
      "0.012526512145996094 \t:  0.9772770318168987 \t:  SLSQP\n",
      "0.15305685997009277 \t:  1.0134178583732416 \t:  trust-constr\n"
     ]
    }
   ],
   "source": [
    "[print(t[i],'\\t: ', v[i], '\\t: ', m[i]) for i in range(len(methods))];"
   ]
  },
  {
   "cell_type": "code",
   "execution_count": null,
   "metadata": {},
   "outputs": [],
   "source": []
  }
 ],
 "metadata": {
  "kernelspec": {
   "display_name": "LSST",
   "language": "python",
   "name": "lsst"
  },
  "language_info": {
   "codemirror_mode": {
    "name": "ipython",
    "version": 3
   },
   "file_extension": ".py",
   "mimetype": "text/x-python",
   "name": "python",
   "nbconvert_exporter": "python",
   "pygments_lexer": "ipython3",
   "version": "3.7.8"
  }
 },
 "nbformat": 4,
 "nbformat_minor": 4
}
